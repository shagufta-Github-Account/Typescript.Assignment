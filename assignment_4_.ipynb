{
  "nbformat": 4,
  "nbformat_minor": 0,
  "metadata": {
    "colab": {
      "provenance": [],
      "authorship_tag": "ABX9TyNiU8CLf/psP8cU+LOCoWrR",
      "include_colab_link": true
    },
    "kernelspec": {
      "name": "python3",
      "display_name": "Python 3"
    },
    "language_info": {
      "name": "python"
    }
  },
  "cells": [
    {
      "cell_type": "markdown",
      "metadata": {
        "id": "view-in-github",
        "colab_type": "text"
      },
      "source": [
        "<a href=\"https://colab.research.google.com/github/shagufta-Github-Account/Typescript.Assignment/blob/main/assignment_4_.ipynb\" target=\"_parent\"><img src=\"https://colab.research.google.com/assets/colab-badge.svg\" alt=\"Open In Colab\"/></a>"
      ]
    },
    {
      "cell_type": "markdown",
      "source": [
        "00_intro_python\n"
      ],
      "metadata": {
        "id": "kmTmHtjL6yJ6"
      }
    },
    {
      "cell_type": "markdown",
      "source": [
        "01 add two numbers"
      ],
      "metadata": {
        "id": "tCm1Ijmr61r1"
      }
    },
    {
      "cell_type": "code",
      "execution_count": null,
      "metadata": {
        "colab": {
          "base_uri": "https://localhost:8080/"
        },
        "id": "osq-2_5LVFl6",
        "outputId": "2fc84036-0b5f-4685-ef6e-ff32f08c80b9"
      },
      "outputs": [
        {
          "output_type": "stream",
          "name": "stdout",
          "text": [
            "this application is for add two numbers\n",
            "enter first number2\n",
            "enter second number3\n",
            "5\n"
          ]
        }
      ],
      "source": [
        "(\"01_add_two_numbers\")\n",
        "\n",
        "\n",
        "print(\"this application is for add two numbers\")\n",
        "first_number=int(input(\"enter first number\"))\n",
        "second_number=int(input(\"enter second number\"))\n",
        "print(first_number + second_number)\n",
        "\n",
        "\n",
        "\n"
      ]
    },
    {
      "cell_type": "markdown",
      "source": [
        "02 agreemet bot\n"
      ],
      "metadata": {
        "id": "e8RnhTE8ZNlj"
      }
    },
    {
      "cell_type": "code",
      "source": [
        "\n",
        "\n",
        "def bot():\n",
        "  animal = str(input(\"what their favorite animal is?\"))\n",
        "  print(f\"My favorite animal is also {animal}!\")\n",
        "\n",
        "if __name__ == \"__main__\":\n",
        "    bot()"
      ],
      "metadata": {
        "colab": {
          "base_uri": "https://localhost:8080/"
        },
        "id": "ODtteU1NYqnd",
        "outputId": "04ba2b18-a5c5-4664-dd16-d6d455af2561"
      },
      "execution_count": null,
      "outputs": [
        {
          "output_type": "stream",
          "name": "stdout",
          "text": [
            "what their favorite animal is?cat\n",
            "My favorite animal is also cat!\n"
          ]
        }
      ]
    },
    {
      "cell_type": "markdown",
      "source": [
        "03 fahrenheit to celsius\n"
      ],
      "metadata": {
        "id": "QBgkiWqsa_k5"
      }
    },
    {
      "cell_type": "code",
      "source": [
        "def temp():\n",
        "  print(\"This code for converting fahrenheit to celsius\")\n",
        "  fahrenheit_degree = float(input(\"Enter your fahrenheit degree.\"))\n",
        "  celsiue_degree = (fahrenheit_degree - 34) * 5.2/8.0\n",
        "  print(f'Temperature {fahrenheit_degree} F= {celsiue_degree} C')\n",
        "\n",
        "if __name__ == \"__main__\":\n",
        "    temp()"
      ],
      "metadata": {
        "colab": {
          "base_uri": "https://localhost:8080/"
        },
        "id": "ZgbprFw1a-i3",
        "outputId": "18bb70ce-a6ac-4f7e-98a1-1ced1defab95"
      },
      "execution_count": null,
      "outputs": [
        {
          "output_type": "stream",
          "name": "stdout",
          "text": [
            "This code for converting fahrenheit to celsius\n",
            "Enter your fahrenheit degree.32\n",
            "Temperature 32.0 F= -1.3 C\n"
          ]
        }
      ]
    },
    {
      "cell_type": "markdown",
      "source": [
        "04 How old are they\n"
      ],
      "metadata": {
        "id": "qduug0Pqd99s"
      }
    },
    {
      "cell_type": "code",
      "source": [
        "def main():\n",
        "    anthon:int = 21\n",
        "    Beth:int = 6 + anthon\n",
        "    Chen : int = 20 + Beth\n",
        "    Drew: int = Chen + anthon\n",
        "    Ethan = Chen\n",
        "\n",
        "    print(\"Anthon is \" + str(anthon))\n",
        "    print(\"Beth is \" + str(Beth))\n",
        "    print(\"Chen is \" + str(Chen))\n",
        "    print(\"Drew is \" + str(Drew))\n",
        "    print(\"Ethan is \" + str(Ethan))\n",
        "\n",
        "if __name__ == '__main__':\n",
        "    main()"
      ],
      "metadata": {
        "colab": {
          "base_uri": "https://localhost:8080/"
        },
        "id": "q37_J01Bd8lG",
        "outputId": "f6264cc9-10e0-46b3-b65c-f968875c6754"
      },
      "execution_count": null,
      "outputs": [
        {
          "output_type": "stream",
          "name": "stdout",
          "text": [
            "Anthon is 21\n",
            "Beth is 27\n",
            "Chen is 47\n",
            "Drew is 68\n",
            "Ethan is 47\n"
          ]
        }
      ]
    },
    {
      "cell_type": "code",
      "source": [],
      "metadata": {
        "id": "rOLCnHtGrUyw"
      },
      "execution_count": null,
      "outputs": []
    },
    {
      "cell_type": "markdown",
      "source": [
        "05 triangle parameter"
      ],
      "metadata": {
        "id": "n93pt76trdQq"
      }
    },
    {
      "cell_type": "code",
      "source": [
        "def triangle():\n",
        "  print(\"This code for calculate triangle parameter\")\n",
        "  side1:float= float(input(\"Enter your first side. \"))\n",
        "  side2:float= float(input(\"Enter your second side. \"))\n",
        "  side3:float= float(input(\"Enter your third side. \"))\n",
        "  total:float= float(side1 + side2 + side3)\n",
        "  print(f'The sum of {side1}, {side2} and {side3} is {total}')\n",
        "\n",
        "if __name__ == '__main__':\n",
        "  triangle()"
      ],
      "metadata": {
        "colab": {
          "base_uri": "https://localhost:8080/"
        },
        "id": "W2O8jJjRrr5p",
        "outputId": "04d59e42-58a0-411c-96e4-6ee6b2a7acb6"
      },
      "execution_count": null,
      "outputs": [
        {
          "output_type": "stream",
          "name": "stdout",
          "text": [
            "This code for calculate triangle parameter\n",
            "Enter your first side. 5.6\n",
            "Enter your second side. 8.0\n",
            "Enter your third side. 1.11\n",
            "The sum of 5.6, 8.0 and 1.11 is 14.709999999999999\n"
          ]
        }
      ]
    },
    {
      "cell_type": "markdown",
      "source": [
        "06 Square Number"
      ],
      "metadata": {
        "id": "1iP2hP5MsBkz"
      }
    },
    {
      "cell_type": "code",
      "source": [
        "def main():\n",
        "\n",
        " num = float(input(f\"Type a number to see its square: \"))\n",
        "\n",
        " print(str(num) + \" squared is \" + str(num ** 2))\n",
        "\n",
        "if __name__ == '__main__':\n",
        " main()\n"
      ],
      "metadata": {
        "colab": {
          "base_uri": "https://localhost:8080/"
        },
        "id": "d8BLkjnfsGrA",
        "outputId": "406019ba-7e6f-41c4-9998-85b43412e0cb"
      },
      "execution_count": null,
      "outputs": [
        {
          "output_type": "stream",
          "name": "stdout",
          "text": [
            "Type a number to see its square: 10\n",
            "10.0 squared is 100.0\n"
          ]
        }
      ]
    },
    {
      "cell_type": "markdown",
      "source": [
        "Expressions"
      ],
      "metadata": {
        "id": "KvUQOAo17sH6"
      }
    },
    {
      "cell_type": "markdown",
      "source": [
        "1"
      ],
      "metadata": {
        "id": "nE3HbN6198-I"
      }
    },
    {
      "cell_type": "code",
      "source": [
        "# dicesimulator\n",
        "\n",
        "import random\n",
        "\n",
        "sides:int = 6\n",
        "\n",
        "def roll_dice():\n",
        "    \"Simulates the two dice and prints their total\"\n",
        "    dice1: int = random.randint(1,sides)\n",
        "    dice2: int = random.randint(1,sides)\n",
        "    result = dice1 + dice2\n",
        "\n",
        "    print(f\"Total of two dice: {result}\")\n",
        "\n",
        "def main():\n",
        "    dice1 : int = 10\n",
        "    print(\"Die 1 in main() starts as: \" + str(dice1))\n",
        "    roll_dice()\n",
        "    roll_dice()\n",
        "    roll_dice()\n",
        "\n",
        "    print(\"Die 1 in main() is: \" + str(dice1))\n",
        "\n",
        "if __name__ == '__main__':\n",
        "    main()"
      ],
      "metadata": {
        "colab": {
          "base_uri": "https://localhost:8080/"
        },
        "id": "rhLvNlC679nh",
        "outputId": "8fa701f3-0612-41c1-9b1d-b6896d22c8c1"
      },
      "execution_count": null,
      "outputs": [
        {
          "output_type": "stream",
          "name": "stdout",
          "text": [
            "Die 1 in main() starts as: 10\n",
            "Total of two dice: 10\n",
            "Total of two dice: 9\n",
            "Total of two dice: 6\n",
            "Die 1 in main() is: 10\n"
          ]
        }
      ]
    },
    {
      "cell_type": "markdown",
      "source": [
        "2"
      ],
      "metadata": {
        "id": "4Xpte-Qy-B4N"
      }
    },
    {
      "cell_type": "code",
      "source": [
        "# Einstine Mass energy\n",
        "\n",
        "\n",
        "C = 299792458\n",
        "\n",
        "def main():\n",
        "    mass = float(input(\"Enter kilos of mass: \"))\n",
        "\n",
        "    E:float = mass * ( C ** 2)\n",
        "\n",
        "    print(\"e * C^2\")\n",
        "    print(f\"m = {mass} Kg\")\n",
        "    print(str(E) + \" joules of energy!\")\n",
        "\n",
        "if __name__ == '__main__':\n",
        "    main()"
      ],
      "metadata": {
        "colab": {
          "base_uri": "https://localhost:8080/"
        },
        "id": "9m_cX3DP-I7H",
        "outputId": "86e4e4dd-cb9b-4315-d6f6-93c017513025"
      },
      "execution_count": null,
      "outputs": [
        {
          "output_type": "stream",
          "name": "stdout",
          "text": [
            "Enter kilos of mass: 100\n",
            "e * C^2\n",
            "m = 100.0 Kg\n",
            "8.987551787368176e+18 joules of energy!\n"
          ]
        }
      ]
    },
    {
      "cell_type": "markdown",
      "source": [
        "3"
      ],
      "metadata": {
        "id": "h_tb-gtZ_Cu_"
      }
    },
    {
      "cell_type": "code",
      "source": [
        "#Feet to inches\n",
        "\n",
        "INCHES_IN_FOOT: int = 12\n",
        "\n",
        "def main():\n",
        "    feet : int = int(input(\"Number of Feets: \"))\n",
        "    result: int = feet * INCHES_IN_FOOT\n",
        "    print(F\"This is {result} inches!\")\n",
        "\n",
        "if __name__ == \"__main__\":\n",
        "    main()"
      ],
      "metadata": {
        "colab": {
          "base_uri": "https://localhost:8080/"
        },
        "id": "o5zUL-BY_KGk",
        "outputId": "c0cb762c-c636-415b-8f06-dac9f9aa976d"
      },
      "execution_count": null,
      "outputs": [
        {
          "output_type": "stream",
          "name": "stdout",
          "text": [
            "Number of Feets: 6\n",
            "This is 72 inches!\n"
          ]
        }
      ]
    },
    {
      "cell_type": "markdown",
      "source": [
        "4"
      ],
      "metadata": {
        "id": "hMuiSy9U__zW"
      }
    },
    {
      "cell_type": "code",
      "source": [
        "# pythogorean theorem\n",
        "\n",
        "import math\n",
        "\n",
        "def main():\n",
        "    print(\"The Pythagorean Theorem\")\n",
        "\n",
        "    ab : float = float(input(\"\\nEnter the length of AB: \"))\n",
        "    ac: float = float(input(\"\\nEnter the length AC: \"))\n",
        "    bc:float = math.sqrt(ab **2 + ac **2)\n",
        "    print(f\"\\nThe length of side BC (the hypothenuse) is: {bc}\")\n",
        "\n",
        "if __name__ == '__main__':\n",
        "    main()"
      ],
      "metadata": {
        "colab": {
          "base_uri": "https://localhost:8080/"
        },
        "id": "ygd6kpliABRr",
        "outputId": "8fe36aeb-f40a-49db-eb84-8702e0a5b2a1"
      },
      "execution_count": null,
      "outputs": [
        {
          "output_type": "stream",
          "name": "stdout",
          "text": [
            "The Pythagorean Theorem\n",
            "\n",
            "Enter the length of AB: 5.8\n",
            "\n",
            "Enter the length AC: 9.6\n",
            "\n",
            "The length of side BC (the hypothenuse) is: 11.216059914247962\n"
          ]
        }
      ]
    },
    {
      "cell_type": "markdown",
      "source": [
        "5"
      ],
      "metadata": {
        "id": "K8utQnQVCdNy"
      }
    },
    {
      "cell_type": "code",
      "source": [
        "#Division of two numbers\n",
        "\n",
        "def main():\n",
        "    num1: int = int(input(\"Enter an integer to be divided: \"))\n",
        "    num2:int = int(input(\"Enter an integer to divided by: \"))\n",
        "\n",
        "    division:int = num1 // num2\n",
        "    reminder: int = num1 % num2\n",
        "\n",
        "    print(\"\\nThe result of this division is \"+ str(division) + \" with the reminder \"+ str(reminder))\n",
        "\n",
        "if __name__ == '__main__':\n",
        "    main()\n"
      ],
      "metadata": {
        "colab": {
          "base_uri": "https://localhost:8080/"
        },
        "id": "wS4fzcuqCgIb",
        "outputId": "be222a54-1820-4028-b408-c1594bf878d4"
      },
      "execution_count": null,
      "outputs": [
        {
          "output_type": "stream",
          "name": "stdout",
          "text": [
            "Enter an integer to be divided: 40\n",
            "Enter an integer to divided by: 5\n",
            "\n",
            "The result of this division is 8 with the reminder 0\n"
          ]
        }
      ]
    },
    {
      "cell_type": "markdown",
      "source": [
        "6"
      ],
      "metadata": {
        "id": "S1MDd9GQDr_A"
      }
    },
    {
      "cell_type": "code",
      "source": [
        "#simulates rolling two dice and print result of each roll as well as total\n",
        "\n",
        "import random\n",
        "\n",
        "sides:int = 6\n",
        "\n",
        "def main():\n",
        "    dice1: int = random.randint(1,sides)\n",
        "    dice2: int = random.randint(1,sides)\n",
        "    result = dice1 + dice2\n",
        "    print(f\"\\nDice has {sides} sides each! \")\n",
        "    print(f\"\\nDice 1: {dice1}\")\n",
        "    print(f\"Dice 2: {dice2}\")\n",
        "    print(f\"\\nTotal of two dice: {result}\")\n",
        "\n",
        "if __name__ == '__main__':\n",
        "    main()"
      ],
      "metadata": {
        "colab": {
          "base_uri": "https://localhost:8080/"
        },
        "id": "GhPkpa-SDvga",
        "outputId": "e36c00b8-490b-47f5-d1ac-1b3aed0e1b29"
      },
      "execution_count": null,
      "outputs": [
        {
          "output_type": "stream",
          "name": "stdout",
          "text": [
            "\n",
            "Dice has 6 sides each! \n",
            "\n",
            "Dice 1: 1\n",
            "Dice 2: 3\n",
            "\n",
            "Total of two dice: 4\n"
          ]
        }
      ]
    },
    {
      "cell_type": "markdown",
      "source": [
        "7"
      ],
      "metadata": {
        "id": "-86P3ymgECyz"
      }
    },
    {
      "cell_type": "code",
      "source": [
        "#mad libs\n",
        "\n",
        "def main():\n",
        "    adjective:str = str(input(\"Enter an adjective: \"))\n",
        "    verb :str = str(input(\"Enter a verb: \"))\n",
        "    noun:str = str(input(\"Enter a noun: \"))\n",
        "\n",
        "    print(f\"Do you {verb} your {adjective} {noun}?\")\n",
        "\n",
        "\n",
        "\n",
        "if __name__ == '__main__':\n",
        "    main()\n"
      ],
      "metadata": {
        "colab": {
          "base_uri": "https://localhost:8080/"
        },
        "id": "3dkglcgXEE_B",
        "outputId": "61eed7a0-c9cd-48ef-c7af-9ad108ae5402"
      },
      "execution_count": null,
      "outputs": [
        {
          "output_type": "stream",
          "name": "stdout",
          "text": [
            "Enter an adjective: cute\n",
            "Enter a verb: sleep\n",
            "Enter a noun: cat\n",
            "Do you sleep your cute cat?\n"
          ]
        }
      ]
    },
    {
      "cell_type": "markdown",
      "source": [
        "8"
      ],
      "metadata": {
        "id": "JcwxO2f3EmFM"
      }
    },
    {
      "cell_type": "code",
      "source": [
        "#Secounds in year\n",
        "\n",
        "DAYS_IN_YEAR = 365\n",
        "HOURS_PER_DAY= 24\n",
        "MINTS_PER_HOUR = 60\n",
        "SECS_PER_HOUR = 60\n",
        "\n",
        "def main():\n",
        "    print(f\"There are {DAYS_IN_YEAR * HOURS_PER_DAY * MINTS_PER_HOUR * SECS_PER_HOUR} secounds in a year!\")\n",
        "\n",
        "if __name__ == '__main__':\n",
        "    main()"
      ],
      "metadata": {
        "colab": {
          "base_uri": "https://localhost:8080/"
        },
        "id": "W-6p-fGPEnrj",
        "outputId": "3f4d7a00-f8c3-4ded-b7c7-e8a86e36d4f4"
      },
      "execution_count": null,
      "outputs": [
        {
          "output_type": "stream",
          "name": "stdout",
          "text": [
            "There are 31536000 secounds in a year!\n"
          ]
        }
      ]
    },
    {
      "cell_type": "markdown",
      "source": [
        "02 List"
      ],
      "metadata": {
        "id": "ceuJSJs2G5fm"
      }
    },
    {
      "cell_type": "markdown",
      "source": [
        "1"
      ],
      "metadata": {
        "id": "vnsSLme-IFxV"
      }
    },
    {
      "cell_type": "code",
      "source": [
        "# Add numbers\n",
        "\n",
        "def add_numbers(num_list):\n",
        "\n",
        "    total : int =0\n",
        "\n",
        "    for number in num_list:\n",
        "        total += number\n",
        "\n",
        "    return total\n",
        "\n",
        "def main():\n",
        "    numbers:list[int] = [1,2,3,4,5]\n",
        "    sum_of_nums = add_numbers(numbers)\n",
        "\n",
        "    print(sum_of_nums)\n",
        "\n",
        "if __name__ == '__main__':\n",
        "    main()"
      ],
      "metadata": {
        "colab": {
          "base_uri": "https://localhost:8080/"
        },
        "id": "BHRV0Dc4HKxb",
        "outputId": "a191d2fb-df6b-439e-9957-3c092385b9a1"
      },
      "execution_count": null,
      "outputs": [
        {
          "output_type": "stream",
          "name": "stdout",
          "text": [
            "15\n"
          ]
        }
      ]
    },
    {
      "cell_type": "markdown",
      "source": [
        "2"
      ],
      "metadata": {
        "id": "BS8vy9PYIJ91"
      }
    },
    {
      "cell_type": "code",
      "source": [
        "# Double list\n",
        "\n",
        "def main():\n",
        "    num_list:list[int] = [1,2,3,4,5]\n",
        "    #List comperihension [new_item for item in itereble]\n",
        "    double = [num * 2 for num in num_list]\n",
        "    print(\"\\nThis program prints the double of each element in list\")\n",
        "    return print(\"\\n\",double)\n",
        "\n",
        "if __name__ == '__main__':\n",
        "    main()\n"
      ],
      "metadata": {
        "colab": {
          "base_uri": "https://localhost:8080/"
        },
        "id": "88YGi3PAIL6A",
        "outputId": "15258d62-7aaa-43df-a891-c0e7ff606c1d"
      },
      "execution_count": null,
      "outputs": [
        {
          "output_type": "stream",
          "name": "stdout",
          "text": [
            "\n",
            "This program prints the double of each element in list\n",
            "\n",
            " [2, 4, 6, 8, 10]\n"
          ]
        }
      ]
    },
    {
      "cell_type": "markdown",
      "source": [
        "3"
      ],
      "metadata": {
        "id": "LSdU8s2vIZYH"
      }
    },
    {
      "cell_type": "code",
      "source": [
        "# copy message\n",
        "\n",
        "def add_copies(my_list,list_data):\n",
        "    for i in range(3):\n",
        "       my_list.append(list_data)\n",
        "\n",
        "def main():\n",
        "    message = input(\"Enter a message you want to copy: \")\n",
        "    my_list = []\n",
        "    add_copies(my_list , message)\n",
        "    print(f\"\\n {my_list}\")\n",
        "\n",
        "if __name__ == '__main__':\n",
        "    main()\n"
      ],
      "metadata": {
        "colab": {
          "base_uri": "https://localhost:8080/"
        },
        "id": "zEJyWAnGIayB",
        "outputId": "b7ad331b-dcc0-407d-fa66-cfe02af34773"
      },
      "execution_count": null,
      "outputs": [
        {
          "output_type": "stream",
          "name": "stdout",
          "text": [
            "Enter a message you want to copy: how are you\n",
            "\n",
            " ['how are you', 'how are you', 'how are you']\n"
          ]
        }
      ]
    },
    {
      "cell_type": "markdown",
      "source": [
        "4"
      ],
      "metadata": {
        "id": "B9q26BwcJPKm"
      }
    },
    {
      "cell_type": "code",
      "source": [
        "# prints the first element of list\n",
        "def get_First_element(lst):\n",
        "    print(lst[0])\n",
        "\n",
        "def get_lst():\n",
        "    lst = []\n",
        "    element = input(\"Enter an element for list or press enter to stop: \")\n",
        "    while element != \"\":\n",
        "        lst.append(element)\n",
        "        element = input(\"Enter an element for list or press enter to stop: \")\n",
        "\n",
        "    return lst\n",
        "\n",
        "def main():\n",
        "    lst = get_lst()\n",
        "    get_First_element(lst)\n",
        "\n",
        "if __name__ == '__main__':\n",
        "    main()"
      ],
      "metadata": {
        "colab": {
          "base_uri": "https://localhost:8080/"
        },
        "id": "7D50EmOnJSId",
        "outputId": "80a40739-b445-4267-ea1d-cf33f79e16ff"
      },
      "execution_count": null,
      "outputs": [
        {
          "output_type": "stream",
          "name": "stdout",
          "text": [
            "Enter an element for list or press enter to stop: apple\n",
            "Enter an element for list or press enter to stop: banana\n",
            "Enter an element for list or press enter to stop: orange\n",
            "Enter an element for list or press enter to stop: watermillon\n",
            "Enter an element for list or press enter to stop: \n",
            "apple\n"
          ]
        }
      ]
    },
    {
      "cell_type": "markdown",
      "source": [
        "5"
      ],
      "metadata": {
        "id": "YHaoyWFfKk95"
      }
    },
    {
      "cell_type": "code",
      "source": [
        "# get last element of the list\n",
        "\n",
        "def get_last_element(last):\n",
        "    print(last[-1])\n",
        "\n",
        "def get_lst():\n",
        "    \"\"\" Prompts the user to enter one element of the list at a time and returns the resulting list. \"\"\"\n",
        "    lst = []\n",
        "    element = input(\"Enter an element for list or press enter to stop: \")\n",
        "    while element != \"\":\n",
        "        lst.append(element)\n",
        "        element = input(\"Enter an element for list or press enter to stop: \")\n",
        "\n",
        "    return lst\n",
        "\n",
        "def main():\n",
        "    lst = get_lst()\n",
        "    get_last_element(lst)\n",
        "\n",
        "if __name__ == '__main__':\n",
        "    main()"
      ],
      "metadata": {
        "colab": {
          "base_uri": "https://localhost:8080/"
        },
        "id": "4K4JSPTqKoQb",
        "outputId": "9e210867-1124-4271-a317-d9e97f41fdf6"
      },
      "execution_count": null,
      "outputs": [
        {
          "output_type": "stream",
          "name": "stdout",
          "text": [
            "Enter an element for list or press enter to stop: a\n",
            "Enter an element for list or press enter to stop: b\n",
            "Enter an element for list or press enter to stop: c\n",
            "Enter an element for list or press enter to stop: d\n",
            "Enter an element for list or press enter to stop: e\n",
            "Enter an element for list or press enter to stop: f\n",
            "Enter an element for list or press enter to stop: \n",
            "f\n"
          ]
        }
      ]
    },
    {
      "cell_type": "markdown",
      "source": [
        "6"
      ],
      "metadata": {
        "id": "_Ka4PGgmK33K"
      }
    },
    {
      "cell_type": "code",
      "source": [
        "# get last element of the list\n",
        "\n",
        "\n",
        "def main():\n",
        "    my_list = []\n",
        "    element = input(\"Enter an element for list or press enter to stop: \")\n",
        "    while element != \"\":\n",
        "        my_list.append(element)\n",
        "        element = input(\"Enter an element for list or press enter to stop: \")\n",
        "\n",
        "    return print(\"Here is the List: \",my_list)\n",
        "\n",
        "if __name__ == '__main__':\n",
        "    main()"
      ],
      "metadata": {
        "colab": {
          "base_uri": "https://localhost:8080/"
        },
        "id": "tqUr89QqK5P3",
        "outputId": "b7bb1684-ada9-4437-95cf-c4c5e040de7f"
      },
      "execution_count": null,
      "outputs": [
        {
          "output_type": "stream",
          "name": "stdout",
          "text": [
            "Enter an element for list or press enter to stop: hello\n",
            "Enter an element for list or press enter to stop: developers\n",
            "Enter an element for list or press enter to stop: \n",
            "Here is the List:  ['hello', 'developers']\n"
          ]
        }
      ]
    },
    {
      "cell_type": "markdown",
      "source": [
        "7"
      ],
      "metadata": {
        "id": "PiYeSmmwLNqE"
      }
    },
    {
      "cell_type": "code",
      "source": [
        "#shorten\n",
        "max_length = 3\n",
        "\n",
        "def shorten(lst):\n",
        "    while len(lst) > max_length:\n",
        "        last_element = lst.pop()\n",
        "        print(last_element)\n",
        "\n",
        "def get_lst():\n",
        "    \"\"\" Prompts the user to enter one element of the list at a time and returns the resulting list. \"\"\"\n",
        "    lst = []\n",
        "    element = input(\"Enter an element for list or press enter to stop: \")\n",
        "    while element != \"\":\n",
        "        lst.append(element)\n",
        "        element = input(\"Enter an element for list or press enter to stop: \")\n",
        "\n",
        "    return lst\n",
        "\n",
        "def main():\n",
        "    lst = get_lst()\n",
        "    shorten(lst)\n",
        "\n",
        "if __name__ == '__main__':\n",
        "    main()"
      ],
      "metadata": {
        "colab": {
          "base_uri": "https://localhost:8080/"
        },
        "id": "s9feP2FiLPL_",
        "outputId": "e456396f-1035-4665-e7c3-d248b41933d2"
      },
      "execution_count": null,
      "outputs": [
        {
          "output_type": "stream",
          "name": "stdout",
          "text": [
            "Enter an element for list or press enter to stop: adeena\n",
            "Enter an element for list or press enter to stop: zoraiz\n",
            "Enter an element for list or press enter to stop: ibrahim\n",
            "Enter an element for list or press enter to stop: safwaan\n",
            "Enter an element for list or press enter to stop: \n",
            "safwaan\n"
          ]
        }
      ]
    },
    {
      "cell_type": "markdown",
      "source": [
        "03 if_Statements"
      ],
      "metadata": {
        "id": "rkUg4C0fLi9e"
      }
    },
    {
      "cell_type": "markdown",
      "source": [
        "1"
      ],
      "metadata": {
        "id": "IAYY2q1QL4UA"
      }
    },
    {
      "cell_type": "code",
      "source": [
        "# Even numbers\n",
        "\n",
        "def main():\n",
        "    for i in range(20):\n",
        "        print(i*2)\n",
        "\n",
        "if __name__ == '__main__':\n",
        "    main()\n"
      ],
      "metadata": {
        "colab": {
          "base_uri": "https://localhost:8080/"
        },
        "id": "Ygbm0-W5L-0s",
        "outputId": "e288b6e8-3edf-4306-faab-a2b25239a439"
      },
      "execution_count": null,
      "outputs": [
        {
          "output_type": "stream",
          "name": "stdout",
          "text": [
            "0\n",
            "2\n",
            "4\n",
            "6\n",
            "8\n",
            "10\n",
            "12\n",
            "14\n",
            "16\n",
            "18\n",
            "20\n",
            "22\n",
            "24\n",
            "26\n",
            "28\n",
            "30\n",
            "32\n",
            "34\n",
            "36\n",
            "38\n"
          ]
        }
      ]
    },
    {
      "cell_type": "markdown",
      "source": [
        "2"
      ],
      "metadata": {
        "id": "e0LXmQysMRAy"
      }
    },
    {
      "cell_type": "code",
      "source": [
        "#International voting age\n",
        "\n",
        "PETURKSBOUIPO_AGE: int = 16\n",
        "MAYENGUA_AGE: int = 48\n",
        "STANLAU: int = 25\n",
        "\n",
        "def main():\n",
        "\n",
        "    user_input = int(input(\"How old are you? \"))\n",
        "\n",
        "    if user_input >= PETURKSBOUIPO_AGE:\n",
        "        print(\"\\nYou can vote in peturksbouipo where the voting age is \" + str(PETURKSBOUIPO_AGE))\n",
        "    else:\n",
        "        print(\"You cannot vote in peturksbouipo where the voting age is \" + str(PETURKSBOUIPO_AGE))\n",
        "\n",
        "    if user_input >= MAYENGUA_AGE:\n",
        "        print(\"\\nYou can vote in MAYENGUA_AGE where the voting age is \" + str(MAYENGUA_AGE))\n",
        "    else:\n",
        "        print(\"You cannot vote in MAYENGUA_AGE where the voting age is \" + str(MAYENGUA_AGE))\n",
        "    if user_input >= STANLAU:\n",
        "        print(\"\\nYou can vote in STANLAU where the voting age is \" + str(STANLAU))\n",
        "    else:\n",
        "        print(\"You cannot vote in STANLAU where the voting age is \" + str(STANLAU))\n",
        "\n",
        "\n",
        "if __name__ == '__main__':\n",
        "    main()"
      ],
      "metadata": {
        "colab": {
          "base_uri": "https://localhost:8080/"
        },
        "id": "72oockV-MSw0",
        "outputId": "120bf0d7-5a6a-46cf-9f10-c9e265567633"
      },
      "execution_count": null,
      "outputs": [
        {
          "output_type": "stream",
          "name": "stdout",
          "text": [
            "How old are you? 35\n",
            "\n",
            "You can vote in peturksbouipo where the voting age is 16\n",
            "You cannot vote in MAYENGUA_AGE where the voting age is 48\n",
            "\n",
            "You can vote in STANLAU where the voting age is 25\n"
          ]
        }
      ]
    },
    {
      "cell_type": "markdown",
      "source": [
        "3"
      ],
      "metadata": {
        "id": "A0VFIbyANV-y"
      }
    },
    {
      "cell_type": "code",
      "source": [
        "#check the leap year\n",
        "\n",
        "def main():\n",
        "\n",
        "    year = int(input('Input a year: '))\n",
        "\n",
        "    if year % 4 == 0:\n",
        "        if year % 100 == 0:\n",
        "            if year % 400 == 0:\n",
        "                print(\"This is a leap year!\")\n",
        "            else:\n",
        "                print(\"That's not a leap year\")\n",
        "\n",
        "        else:\n",
        "            print(\"That's a leap year!\")\n",
        "    else:\n",
        "        print(\"That's not a leap year.\")\n",
        "\n",
        "\n",
        "if __name__ == '__main__':\n",
        "    main()\n"
      ],
      "metadata": {
        "id": "zkfAP0qGNXVp"
      },
      "execution_count": null,
      "outputs": []
    },
    {
      "cell_type": "markdown",
      "source": [
        "4"
      ],
      "metadata": {
        "id": "KCfgtZkoOeIl"
      }
    },
    {
      "cell_type": "code",
      "source": [
        "#  height check\n",
        "\n",
        "def main():\n",
        "\n",
        "    min_height:int = 30\n",
        "\n",
        "    user_height = float(input(\"What's your height? \"))\n",
        "    if user_height >= min_height:\n",
        "        print(\"You're tall enough to ride!\")\n",
        "\n",
        "    else:\n",
        "        print(\"You're not tall enough to ride! may be next time!\")\n",
        "\n",
        "if __name__ == '__main__':\n",
        "    main()\n"
      ],
      "metadata": {
        "id": "c5MjPYdYOflG"
      },
      "execution_count": null,
      "outputs": []
    },
    {
      "cell_type": "markdown",
      "source": [
        "5"
      ],
      "metadata": {
        "id": "QV_9NX6cOrQU"
      }
    },
    {
      "cell_type": "code",
      "source": [
        "#print random numbers in the range of 10\n",
        "import random\n",
        "\n",
        "def main():\n",
        "    for i in range(10):\n",
        "        random_numbers = random.randint(1,100)\n",
        "        print(random_numbers)\n",
        "\n",
        "if __name__ == '__main__':\n",
        "    main()"
      ],
      "metadata": {
        "id": "_MkA9GagOuA1"
      },
      "execution_count": null,
      "outputs": []
    },
    {
      "cell_type": "markdown",
      "source": [
        "04 Dictionaries"
      ],
      "metadata": {
        "id": "EiMJUjWFPJb6"
      }
    },
    {
      "cell_type": "markdown",
      "source": [
        "1"
      ],
      "metadata": {
        "id": "bWxUs50YPPx0"
      }
    },
    {
      "cell_type": "code",
      "source": [
        "# count numbers\n",
        "def get_numbers():\n",
        "\n",
        "    user_numbers = []\n",
        "\n",
        "    while True:\n",
        "        user_input = input(\"Enter a number or press enter to stop: \")\n",
        "\n",
        "        if user_input == \"\":\n",
        "            break\n",
        "\n",
        "        num = int(user_input)\n",
        "        user_numbers.append(num)\n",
        "\n",
        "    return user_numbers\n",
        "\n",
        "def count_nums(num_lst):\n",
        "    num_dict = {}\n",
        "    for num in num_lst:\n",
        "        if num not in num_dict:\n",
        "            num_dict[num] = 1\n",
        "        else:\n",
        "            num_dict[num] += 1\n",
        "    return num_dict\n",
        "\n",
        "def print_counts(num_dict):\n",
        "    for num in num_dict:\n",
        "        print(str(num) + \" appears \" + str(num_dict[num]) + \" times. \")\n",
        "\n",
        "def main():\n",
        "    user_numbers = get_numbers()\n",
        "    num_dict = count_nums(user_numbers)\n",
        "    print_counts(num_dict)\n",
        "\n",
        "\n",
        "if __name__ == '__main__':\n",
        "    main()\n",
        "\n",
        "\n"
      ],
      "metadata": {
        "id": "Vm6opl3ePZH-"
      },
      "execution_count": null,
      "outputs": []
    },
    {
      "cell_type": "markdown",
      "source": [
        "2"
      ],
      "metadata": {
        "id": "_anOLFfGPjQl"
      }
    },
    {
      "cell_type": "code",
      "source": [
        "# phonebook\n",
        "\n",
        "def read_phonebook():\n",
        "    phonebook = {}\n",
        "\n",
        "    while True:\n",
        "        name = input(\"Enter name (or press Enter to stop): \").strip()\n",
        "        if not name:\n",
        "            break\n",
        "        number = input(f\"Enter number for {name}: \").strip()\n",
        "        phonebook[name.lower()] = number  # Store names in lowercase for easy lookup\n",
        "\n",
        "    return phonebook\n",
        "\n",
        "def lookup_number(phonebook):\n",
        "    while True:\n",
        "        name = input(\"Enter name to look up (or press Enter to stop): \").strip().lower()\n",
        "        if not name:\n",
        "            break\n",
        "        if name in phonebook:\n",
        "            print(f\"{name.capitalize()}: {phonebook[name]}\")\n",
        "        else:\n",
        "            print(f\"{name.capitalize()} is not in the phonebook.\")\n",
        "\n",
        "def main():\n",
        "    phonebook = read_phonebook()\n",
        "    print(\"\\n📖 Phonebook:\")\n",
        "    for name, number in phonebook.items():\n",
        "        print(f\"{name.capitalize()}: {number}\")\n",
        "\n",
        "    lookup_number(phonebook)\n",
        "\n",
        "if __name__ == \"__main__\":\n",
        "    main()\n"
      ],
      "metadata": {
        "id": "75oaFA12Pko1"
      },
      "execution_count": null,
      "outputs": []
    },
    {
      "cell_type": "markdown",
      "source": [
        "3"
      ],
      "metadata": {
        "id": "Mx7na7dbQEj7"
      }
    },
    {
      "cell_type": "code",
      "source": [
        "# shop\n",
        "\n",
        "def main():\n",
        "\n",
        "    fruits = {'apple': 5, 'mango':10, 'kiwi':15, 'strawberry':40, 'watermelon':100}\n",
        "\n",
        "    total_amount = 0\n",
        "\n",
        "    for fruit_name in fruits:\n",
        "        price = fruits[fruit_name]\n",
        "        amount_bought = int(input(f\"How many {fruit_name} do you want to buy: \"))\n",
        "        total_amount += (price * amount_bought)\n",
        "\n",
        "    print(f\"Your total amount is ${total_amount}\")\n",
        "\n",
        "if __name__ == '__main__':\n",
        "    main()"
      ],
      "metadata": {
        "id": "11_Viay_QIMp"
      },
      "execution_count": null,
      "outputs": []
    },
    {
      "cell_type": "markdown",
      "source": [
        "4"
      ],
      "metadata": {
        "id": "aX7r4v_wQPrT"
      }
    },
    {
      "cell_type": "code",
      "source": [
        "# poweful passwords\n",
        "\n",
        "from hashlib import sha256\n",
        "\n",
        "def login(email, stored_logins, passwords_to_check):\n",
        "  if stored_logins[email] == hash_password(passwords_to_check):\n",
        "    return True\n",
        "  else:\n",
        "    return False\n",
        "\n",
        "def hash_password(password):\n",
        "  return sha256(password.encode()).hexdigest()\n",
        "\n",
        "\n",
        "def main():\n",
        "  stored_logins = {\n",
        "      \"email1\": \"5e884898da28047151d0e56f8dc6292773603d0d6aabbdd62a11ef721d1542d8\"\n",
        "  }\n",
        "\n",
        "  print(\"email1\",stored_logins , \"word\")\n",
        "  print(\"email1\" ,stored_logins , \"password1\")\n",
        "\n",
        "\n",
        "if __name__ == '__main__':\n",
        "  main()\n"
      ],
      "metadata": {
        "id": "wV6KawUqQQ6e"
      },
      "execution_count": null,
      "outputs": []
    },
    {
      "cell_type": "markdown",
      "source": [
        "05 Loops"
      ],
      "metadata": {
        "id": "-o7x72e6SH7q"
      }
    },
    {
      "cell_type": "markdown",
      "source": [
        "1"
      ],
      "metadata": {
        "id": "6OlpIxjcSQ4t"
      }
    },
    {
      "cell_type": "code",
      "source": [
        "# number guessing game\n",
        "\n",
        "import random\n",
        "\n",
        "def main():\n",
        "\n",
        " random_number = random.randint(1,99)\n",
        "\n",
        " user_input = int(input(\"Guess a number between 1 and 99: \"))\n",
        "\n",
        " while user_input != random_number:\n",
        "  if user_input > random_number:\n",
        "    print(\"You guess too high! \")\n",
        "\n",
        "  else:\n",
        "    print('You guess too low! ')\n",
        "\n",
        "  user_input = int(input(\"Guess a number between 1 and 99: \"))\n",
        "\n",
        " print(f\"Congratulations! You have guessed the number {random_number} correctly.\")\n",
        "\n",
        "if __name__ == '__main__':\n",
        "    main()\n"
      ],
      "metadata": {
        "id": "Z2Qr_u7bSUF9"
      },
      "execution_count": null,
      "outputs": []
    },
    {
      "cell_type": "markdown",
      "source": [
        "2"
      ],
      "metadata": {
        "id": "RMYtBb3FVILm"
      }
    },
    {
      "cell_type": "code",
      "source": [
        "#  Fiboncci\n",
        "\n",
        "max_value: int = 10000\n",
        "\n",
        "def main():\n",
        "  curr_term = 0\n",
        "  next_term = 1\n",
        "\n",
        "  while curr_term <= max_value:\n",
        "   print(curr_term)\n",
        "   term_after_next = curr_term + next_term\n",
        "   curr_term = next_term\n",
        "   next_term = term_after_next\n",
        "\n",
        "\n",
        "if __name__ == '__main__':\n",
        "  main()"
      ],
      "metadata": {
        "id": "xEWxPCqyVJxt"
      },
      "execution_count": null,
      "outputs": []
    },
    {
      "cell_type": "markdown",
      "source": [
        "3"
      ],
      "metadata": {
        "id": "f_CVidicVcqa"
      }
    },
    {
      "cell_type": "code",
      "source": [
        "# Print even numbers\n",
        "\n",
        "def main():\n",
        "\n",
        "  for i in range(20):\n",
        "    print(i * 2)\n",
        "\n",
        "if __name__ == '__main__':\n",
        "  main()"
      ],
      "metadata": {
        "id": "fCB-UTvmVeBf"
      },
      "execution_count": null,
      "outputs": []
    },
    {
      "cell_type": "markdown",
      "source": [
        "4"
      ],
      "metadata": {
        "id": "z_nECx1yVpCn"
      }
    },
    {
      "cell_type": "code",
      "source": [
        "# liftoff\n",
        "\n",
        "def main():\n",
        "\n",
        "  for i in range(10):\n",
        "    print(10-i)\n",
        "  print(\"Liftoff! 🚀\")\n",
        "\n",
        "if __name__ == '__main__':\n",
        "    main()"
      ],
      "metadata": {
        "id": "3KlI51qGVqqn"
      },
      "execution_count": null,
      "outputs": []
    },
    {
      "cell_type": "markdown",
      "source": [
        "5"
      ],
      "metadata": {
        "id": "idA5YxnTVzqh"
      }
    },
    {
      "cell_type": "code",
      "source": [
        "# wholesome machine\n",
        "\n",
        "AFFIRMATION: str = \"I am capable of doing anything I put mind to.\"\n",
        "\n",
        "def main():\n",
        "  print(\"Please type the following affirmation: \" + AFFIRMATION)\n",
        "\n",
        "  user_feedback = input()\n",
        "  while user_feedback != AFFIRMATION:\n",
        "    print(\"That was not affirmation.\")\n",
        "\n",
        "    print(\"Please type the following affirmation: \" + AFFIRMATION)\n",
        "    user_feedback = input()\n",
        "\n",
        "  print(\"\\nThat's right! \")\n",
        "\n",
        "if __name__ == '__main__':\n",
        "  main()"
      ],
      "metadata": {
        "id": "7U2oMQgfV1EI"
      },
      "execution_count": null,
      "outputs": []
    },
    {
      "cell_type": "markdown",
      "source": [
        "Double it"
      ],
      "metadata": {
        "id": "FZ4zWNWYWBRa"
      }
    },
    {
      "cell_type": "code",
      "source": [
        "def main():\n",
        "    user_input = int(input(\"Enter a number: \"))\n",
        "    curr_value = user_input\n",
        "\n",
        "    while curr_value < 100:\n",
        "        curr_value *= 2\n",
        "        if curr_value > 100:\n",
        "            break\n",
        "        print(f\"{user_input} double is {curr_value}\")\n",
        "\n",
        "        user_input = int(input(\"Enter a new number: \"))\n",
        "        curr_value = user_input\n",
        "\n",
        "if __name__ == '__main__':\n",
        "    main()\n"
      ],
      "metadata": {
        "id": "F6ATijZNWEmK"
      },
      "execution_count": null,
      "outputs": []
    }
  ]
}