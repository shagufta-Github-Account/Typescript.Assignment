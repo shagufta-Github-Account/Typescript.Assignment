{
  "nbformat": 4,
  "nbformat_minor": 0,
  "metadata": {
    "colab": {
      "provenance": [],
      "authorship_tag": "ABX9TyPLdW5wgk5ZNKTmOcgUtIOY",
      "include_colab_link": true
    },
    "kernelspec": {
      "name": "python3",
      "display_name": "Python 3"
    },
    "language_info": {
      "name": "python"
    }
  },
  "cells": [
    {
      "cell_type": "markdown",
      "metadata": {
        "id": "view-in-github",
        "colab_type": "text"
      },
      "source": [
        "<a href=\"https://colab.research.google.com/github/shagufta-Github-Account/Typescript.Assignment/blob/main/project1.ipynb\" target=\"_parent\"><img src=\"https://colab.research.google.com/assets/colab-badge.svg\" alt=\"Open In Colab\"/></a>"
      ]
    },
    {
      "cell_type": "code",
      "execution_count": null,
      "metadata": {
        "id": "4a8s-pm8mzF8"
      },
      "outputs": [],
      "source": []
    },
    {
      "cell_type": "code",
      "source": [
        "youtuber = \"Shagufta Khan\"\n",
        "print(\"subscribe to \" + youtuber)\n",
        "print(\"subscribe to {}\".format(youtuber) )\n",
        "print(f\"subscribe to {youtuber}\")"
      ],
      "metadata": {
        "colab": {
          "base_uri": "https://localhost:8080/"
        },
        "id": "hwaYriU1oEuK",
        "outputId": "76683534-d233-4468-dbfe-e91459137d40"
      },
      "execution_count": 2,
      "outputs": [
        {
          "output_type": "stream",
          "name": "stdout",
          "text": [
            "subscribe to Shagufta Khan\n",
            "subscribe to Shagufta Khan\n",
            "subscribe to Shagufta Khan\n"
          ]
        }
      ]
    },
    {
      "cell_type": "code",
      "source": [],
      "metadata": {
        "id": "CJ0OANEOqPeI"
      },
      "execution_count": null,
      "outputs": []
    },
    {
      "cell_type": "code",
      "source": [
        "adj = input(\"Adjective: \")\n",
        "verb1 = input(\"Verb: \")\n",
        "verb2 = input(\"Verb: \")\n",
        "famous_person = input(\"Famous person:\")\n",
        "madlib = f\"Computer programming is so {adj}! It makes me so excited all the time because \\\n",
        "I love to {verb1}. Stay hydrated and {verb2} like you are {famous_person}!\"\n",
        "print(madlib)\n"
      ],
      "metadata": {
        "colab": {
          "base_uri": "https://localhost:8080/"
        },
        "id": "sSSe8RjvpOI-",
        "outputId": "6f984b3e-78b1-4fbf-e960-b3acd021d679"
      },
      "execution_count": 3,
      "outputs": [
        {
          "output_type": "stream",
          "name": "stdout",
          "text": [
            "Adjective: amazing\n",
            "Verb: skydiv\n",
            "Verb: jump\n",
            "Famous person:quaid-e-azam\n",
            "Computer programming is so amazing! It makes me so excited all the time because I love to skydiv. Stay hydrated and jump like you are quaid-e-azam!\n"
          ]
        }
      ]
    },
    {
      "cell_type": "code",
      "source": [],
      "metadata": {
        "id": "pl4aiqu9q-Nj"
      },
      "execution_count": null,
      "outputs": []
    }
  ]
}