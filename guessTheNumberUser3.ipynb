{
  "nbformat": 4,
  "nbformat_minor": 0,
  "metadata": {
    "colab": {
      "provenance": [],
      "authorship_tag": "ABX9TyO4Kb+lBFtZ2nPpsodJeBV0",
      "include_colab_link": true
    },
    "kernelspec": {
      "name": "python3",
      "display_name": "Python 3"
    },
    "language_info": {
      "name": "python"
    }
  },
  "cells": [
    {
      "cell_type": "markdown",
      "metadata": {
        "id": "view-in-github",
        "colab_type": "text"
      },
      "source": [
        "<a href=\"https://colab.research.google.com/github/shagufta-Github-Account/Typescript.Assignment/blob/main/guessTheNumberUser3.ipynb\" target=\"_parent\"><img src=\"https://colab.research.google.com/assets/colab-badge.svg\" alt=\"Open In Colab\"/></a>"
      ]
    },
    {
      "cell_type": "code",
      "execution_count": 3,
      "metadata": {
        "id": "jc-5UbluUDKJ",
        "colab": {
          "base_uri": "https://localhost:8080/"
        },
        "outputId": "a934c919-980e-4024-9966-0c0bf4851f22"
      },
      "outputs": [
        {
          "output_type": "stream",
          "name": "stdout",
          "text": [
            "Is 5 too high (H), too low (L), or correct (C)? 7\n",
            "Is 1 too high (H), too low (L), or correct (C)? 5\n",
            "Is 2 too high (H), too low (L), or correct (C)? 3\n",
            "Is 2 too high (H), too low (L), or correct (C)? 4\n",
            "Is 3 too high (H), too low (L), or correct (C)? c\n",
            "Yay! The computer guessed your number, 3, correctly!\n"
          ]
        }
      ],
      "source": [
        "import random\n",
        "\n",
        "def computer_guess(x):\n",
        "    low = 1\n",
        "    high = x\n",
        "    feedback = ''\n",
        "    while feedback != 'c':  # Loop jab tak correct answer na mile\n",
        "        if low != high:\n",
        "            guess = random.randint(low, high)\n",
        "        else:\n",
        "            guess = low  # Agar low aur high same hain to wahi guess hoga\n",
        "\n",
        "\n",
        "        feedback = input(f'Is {guess} too high (H), too low (L), or correct (C)? ').lower()\n",
        "\n",
        "        if feedback == 'h':\n",
        "            high = guess - 1\n",
        "        elif feedback == 'l':\n",
        "            low = guess + 1\n",
        "\n",
        "    print(f'Yay! The computer guessed your number, {guess}, correctly!')\n",
        "\n",
        "# Function ko call karna\n",
        "computer_guess(10)\n"
      ]
    }
  ]
}