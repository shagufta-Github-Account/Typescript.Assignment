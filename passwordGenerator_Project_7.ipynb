{
  "nbformat": 4,
  "nbformat_minor": 0,
  "metadata": {
    "colab": {
      "provenance": [],
      "authorship_tag": "ABX9TyOr3mDAkikgSeVzlHRnVf0a",
      "include_colab_link": true
    },
    "kernelspec": {
      "name": "python3",
      "display_name": "Python 3"
    },
    "language_info": {
      "name": "python"
    }
  },
  "cells": [
    {
      "cell_type": "markdown",
      "metadata": {
        "id": "view-in-github",
        "colab_type": "text"
      },
      "source": [
        "<a href=\"https://colab.research.google.com/github/shagufta-Github-Account/Typescript.Assignment/blob/main/passwordGenerator_Project_7.ipynb\" target=\"_parent\"><img src=\"https://colab.research.google.com/assets/colab-badge.svg\" alt=\"Open In Colab\"/></a>"
      ]
    },
    {
      "cell_type": "code",
      "execution_count": 5,
      "metadata": {
        "colab": {
          "base_uri": "https://localhost:8080/"
        },
        "id": "NzusFjygW_SI",
        "outputId": "a1779f63-02ab-47a1-a98d-9d12404d37f0"
      },
      "outputs": [
        {
          "output_type": "stream",
          "name": "stdout",
          "text": [
            "Welcome To Your Password Generator\n",
            "Amount of passwords to generate: 2\n",
            "Input Your password length: 4\n",
            "\n",
            "Here are your passwords:\n",
            "\n",
            "o9wf\n",
            "eVWD\n",
            "\n",
            "Done!\n"
          ]
        }
      ],
      "source": [
        "import random\n",
        "\n",
        "print('Welcome To Your Password Generator')\n",
        "\n",
        "chars = 'abcdefghijklmnopqrstuvwxyzABCDEFGHIJKLMNOPQRSTUVWXYZ!@#$%^&*1234567890'\n",
        "\n",
        "number = input('Amount of passwords to generate: ')\n",
        "number = int(number)\n",
        "\n",
        "length = input('Input Your password length: ')\n",
        "length = int(length)\n",
        "\n",
        "print('\\nHere are your passwords:\\n')\n",
        "\n",
        "for _ in range(number):  # Use _ since the loop variable is not needed\n",
        "    password = ''  # Fixed variable name from \"passwords\" to \"password\" (singular)\n",
        "    for _ in range(length):\n",
        "        password += random.choice(chars)\n",
        "    print(password)\n",
        "\n",
        "print('\\nDone!')  # Fixed missing closing quote\n"
      ]
    }
  ]
}