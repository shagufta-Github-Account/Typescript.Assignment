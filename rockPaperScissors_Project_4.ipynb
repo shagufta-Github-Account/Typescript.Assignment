{
  "nbformat": 4,
  "nbformat_minor": 0,
  "metadata": {
    "colab": {
      "provenance": [],
      "authorship_tag": "ABX9TyPVuuT0s7NDgduAtXHPmvRh",
      "include_colab_link": true
    },
    "kernelspec": {
      "name": "python3",
      "display_name": "Python 3"
    },
    "language_info": {
      "name": "python"
    }
  },
  "cells": [
    {
      "cell_type": "markdown",
      "metadata": {
        "id": "view-in-github",
        "colab_type": "text"
      },
      "source": [
        "<a href=\"https://colab.research.google.com/github/shagufta-Github-Account/Typescript.Assignment/blob/main/rockPaperScissors_Project_4.ipynb\" target=\"_parent\"><img src=\"https://colab.research.google.com/assets/colab-badge.svg\" alt=\"Open In Colab\"/></a>"
      ]
    },
    {
      "cell_type": "code",
      "execution_count": 11,
      "metadata": {
        "id": "cATBb8OVwkyw",
        "colab": {
          "base_uri": "https://localhost:8080/"
        },
        "outputId": "b51e29bb-c057-4bf1-a564-f20cdc98c4ec"
      },
      "outputs": [
        {
          "output_type": "stream",
          "name": "stdout",
          "text": [
            "What is your choice? 'r' for rock, 'p' for paper, 's' for scissors: s\n",
            "Computer chose: s\n",
            "It's a tie\n"
          ]
        }
      ],
      "source": [
        "import random\n",
        "\n",
        "def play():\n",
        "    user = input(\"What is your choice? 'r' for rock, 'p' for paper, 's' for scissors: \")\n",
        "    computer = random.choice(['r', 'p', 's'])\n",
        "    print(f\"Computer chose: {computer}\")\n",
        "\n",
        "    if user == computer:\n",
        "        return \"It's a tie\"\n",
        "\n",
        "    if is_win(user, computer):\n",
        "        return \"You won!\"\n",
        "\n",
        "    return \"You lost!\"\n",
        "\n",
        "def is_win(player, opponent):\n",
        "    # Winning conditions: Rock beats Scissors, Scissors beats Paper, Paper beats Rock\n",
        "    return (player == 'r' and opponent == 's') or \\\n",
        "           (player == 's' and opponent == 'p') or \\\n",
        "           (player == 'p' and opponent == 'r')\n",
        "\n",
        "# Run the game\n",
        "print(play())\n"
      ]
    }
  ]
}